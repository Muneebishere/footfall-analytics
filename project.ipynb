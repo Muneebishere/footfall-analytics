{
 "cells": [
  {
   "cell_type": "code",
   "execution_count": 8,
   "metadata": {},
   "outputs": [],
   "source": [
    "import cv2, time\n",
    "import requests\n",
    "import numpy as np"
   ]
  },
  {
   "cell_type": "code",
   "execution_count": 17,
   "metadata": {},
   "outputs": [],
   "source": [
    "# Create a VideoCapture object for webcam\n",
    "cap = cv2.VideoCapture(0)\n",
    "\n",
    "# Create a VideoCapture object for mobile camera 1\n",
    "ip_mobile1_url = \"http://192.168.1.5:8080/\"\n",
    "cap2 = cv2.VideoCapture(ip_mobile1_url + \"video\")\n",
    "\n",
    "# Create a VideoCapture object for mobile camera 2\n",
    "ip_mobile2_url = \"http://192.168.1.3:8080/\"\n",
    "cap3 = cv2.VideoCapture(ip_mobile2_url + \"video\")\n",
    "\n",
    "# Define the codec and create VideoWriter object\n",
    "fourcc = cv2.VideoWriter_fourcc(*'MJPG')\n",
    "out = cv2.VideoWriter('stream1.avi', fourcc, 10.0, (640,  480))\n",
    "\n",
    "# Default resolutions of the frame are obtained.The default resolutions are system dependent.\n",
    "# We convert the resolutions from float to integer.\n",
    "frame_width = int(cap2.get(3))\n",
    "frame_height = int(cap2.get(4))\n",
    "\n",
    "# Define VideoWriter object for mobile 1 stream\n",
    "out2 = cv2.VideoWriter('stream2.avi',fourcc, 10.0, (frame_width,  frame_height))\n",
    "\n",
    "frame_width = int(cap3.get(3))\n",
    "frame_height = int(cap3.get(4))\n",
    "\n",
    "# Define VideoWriter object for mobile 2 stream\n",
    "out3 = cv2.VideoWriter('stream3.avi',fourcc, 10.0, (frame_width,  frame_height))\n",
    "\n",
    "# Read each frame of each stream dislpay it and record it in the VideoWriter object\n",
    "while cap.isOpened() and cap2.isOpened() and cap3.isOpened():\n",
    "    ret, frame = cap.read()\n",
    "    ret2, frame2 = cap2.read()\n",
    "    ret3, frame3 = cap3.read()\n",
    "    \n",
    "    if not ret or not ret2 or not ret3:\n",
    "        print(\"Can't receive frame (stream end?). Exiting ...\")\n",
    "        break\n",
    "        \n",
    "    out.write(frame)\n",
    "    out2.write(frame2)\n",
    "    out3.write(frame3)\n",
    "    \n",
    "    cv2.imshow('webcam', frame)\n",
    "    cv2.imshow('mobile1', frame2)\n",
    "    cv2.imshow('mobile2', frame3)\n",
    "    \n",
    "    if cv2.waitKey(1) == ord('q'):\n",
    "        break\n",
    "        \n",
    "# Release everything if job is finished\n",
    "cap.release()\n",
    "out.release()\n",
    "cap2.release()\n",
    "out2.release()\n",
    "cap3.release()\n",
    "out3.release()\n",
    "\n",
    "cv2.destroyAllWindows()"
   ]
  }
 ],
 "metadata": {
  "kernelspec": {
   "display_name": "Python 3",
   "language": "python",
   "name": "python3"
  },
  "language_info": {
   "codemirror_mode": {
    "name": "ipython",
    "version": 3
   },
   "file_extension": ".py",
   "mimetype": "text/x-python",
   "name": "python",
   "nbconvert_exporter": "python",
   "pygments_lexer": "ipython3",
   "version": "3.8.5"
  }
 },
 "nbformat": 4,
 "nbformat_minor": 4
}
